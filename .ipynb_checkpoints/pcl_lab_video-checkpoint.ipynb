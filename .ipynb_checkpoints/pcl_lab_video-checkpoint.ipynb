{
 "cells": [
  {
   "cell_type": "code",
   "execution_count": 1,
   "metadata": {},
   "outputs": [],
   "source": [
    "from numpy.linalg import norm\n",
    "import numpy as np\n",
    "import pandas as pd\n",
    "import random\n",
    "\n",
    "from sklearn.linear_model import RANSACRegressor\n",
    "from sklearn.cluster import DBSCAN\n",
    "\n",
    "import matplotlib.pyplot as plt\n",
    "from matplotlib import transforms\n",
    "import pptk\n",
    "\n",
    "import pcl\n",
    "\n",
    "from MinimumBoundingBox import MinimumBoundingBox\n",
    "from scipy.stats import linregress\n",
    "from scipy.spatial import ConvexHull\n",
    "from matplotlib.path import Path\n",
    "\n",
    "from scipy.spatial import distance\n",
    "from scipy.optimize import linear_sum_assignment\n",
    "\n",
    "from time import perf_counter\n",
    "import glob\n",
    "import sys\n",
    "sys.path.remove(sys.path[2])\n",
    "import cv2"
   ]
  },
  {
   "cell_type": "code",
   "execution_count": 2,
   "metadata": {},
   "outputs": [],
   "source": [
    "#%matplotlib qt"
   ]
  },
  {
   "cell_type": "code",
   "execution_count": 3,
   "metadata": {},
   "outputs": [],
   "source": [
    "def load_from_bin(bin_path):    \n",
    "    \n",
    "    obj = np.fromfile(bin_path, dtype=np.float32).reshape(-1, 4)\n",
    "    \n",
    "    return obj[:,:3]"
   ]
  },
  {
   "cell_type": "code",
   "execution_count": 4,
   "metadata": {},
   "outputs": [],
   "source": [
    "def link(p1,p2, link_intensity):    \n",
    "    \n",
    "    return np.linspace(p1, p2, num=int(norm(p1-p2)*link_intensity))"
   ]
  },
  {
   "cell_type": "code",
   "execution_count": 5,
   "metadata": {},
   "outputs": [],
   "source": [
    "def convex_hull(pcl, intensity=150):    \n",
    "    \n",
    "    hull = ConvexHull(pcl[:,:2])\n",
    "    hull_path = Path( pcl[:,:2][hull.vertices] )\n",
    "    results = np.vstack(hull_path.to_polygons())[:-1]\n",
    "    n = results.shape[0]\n",
    "    \n",
    "    z_min, z_max = pcl[:,2].min(), pcl[:,2].max()\n",
    "    down_points = np.hstack((results, z_min*np.ones(shape=(n,1))))\n",
    "    up_points = np.hstack((results, z_max*np.ones(shape=(n,1))))\n",
    "    \n",
    "    box = np.zeros((0,3))\n",
    "\n",
    "    for k in range(n):\n",
    "        box = np.vstack((box, link(down_points[k%n], down_points[(k+1)%n], link_intensity=intensity)))\n",
    "    for k in range(n):\n",
    "        box = np.vstack((box, link(up_points[k%n], up_points[(k+1)%n], link_intensity=intensity)))\n",
    "    for k in range(n):\n",
    "        box = np.vstack((box, link(down_points[k%n], up_points[k%n], link_intensity=intensity)))\n",
    "    \n",
    "    return box"
   ]
  },
  {
   "cell_type": "code",
   "execution_count": 6,
   "metadata": {},
   "outputs": [],
   "source": [
    "def process(pcl, e=0.3, outer_radius=40, inner_radius=2.74, min_cluster_size=20):    \n",
    "    \n",
    "    coords = pcl.to_array()\n",
    "    coords = coords[(norm(coords[:,:2], axis=1)<=outer_radius)]\n",
    "    coords = coords[(norm(coords, axis=1)>inner_radius)]\n",
    "    coords = coords[coords[:,2]>-2.2]\n",
    "    \n",
    "    x, y, z = coords[:,0], coords[:,1], coords[:,2]\n",
    "    \n",
    "    ptf = coords[z<-1.3]\n",
    "    reg = RANSACRegressor()\n",
    "    reg.fit(ptf[:,:2],ptf[:,2])\n",
    "    preds = (reg.predict(ptf[:,:2])-ptf[:,2])\n",
    "    std_z = preds.std()\n",
    "    mean_z = reg.predict(ptf[:,:2]).mean()\n",
    "    \n",
    "    to_cluster = coords[z>mean_z+1.9*std_z]\n",
    "    \n",
    "    clst = DBSCAN(eps=e)\n",
    "    clst.fit(to_cluster)\n",
    "    clst_labels = clst.labels_\n",
    "    labels, counts = np.unique(clst_labels, return_counts=True)\n",
    "    \n",
    "    to_cluster = to_cluster[np.isin(clst_labels, labels[counts>min_cluster_size])]\n",
    "    clst_labels = clst_labels[np.isin(clst_labels, labels[counts>min_cluster_size])]\n",
    "    bhulls = np.vstack([convex_hull(to_cluster[clst_labels==k], intensity=50) for k in np.unique(clst_labels)[1:]])\n",
    "    \n",
    "    return to_cluster, clst_labels, bhulls"
   ]
  },
  {
   "cell_type": "code",
   "execution_count": 7,
   "metadata": {},
   "outputs": [],
   "source": [
    "def visualize_detections(to_cluster, clst_labels, bhulls):    \n",
    "    \n",
    "    viz_pcl = np.vstack((to_cluster, bhulls))\n",
    "    bhull_color = int(np.quantile(np.unique(clst_labels)[1:], .70))\n",
    "    clst_labels = np.hstack((clst_labels, bhull_color*np.ones(bhulls.shape[0])))\n",
    "    \n",
    "    return viz_pcl, clst_labels"
   ]
  },
  {
   "cell_type": "code",
   "execution_count": 8,
   "metadata": {},
   "outputs": [],
   "source": [
    "def get_tracks(pcd):\n",
    "    \n",
    "    mcs = 100\n",
    "    eps = 0.5\n",
    "     \n",
    "    to_cluster, clst_labels, _  = process(pcd, min_cluster_size=mcs, e=eps)\n",
    "    to_cluster = to_cluster[clst_labels!=-1]\n",
    "    clst_labels = clst_labels[clst_labels!=-1]\n",
    "    \n",
    "    df = pd.DataFrame(np.hstack((to_cluster[:,:2], clst_labels.reshape(-1,1))), columns=['x','y','cluster']).groupby('cluster')\\\n",
    "           .apply(lambda x: np.array(MinimumBoundingBox(x.values[:,:-1]).rectangle_center))    \n",
    "    \n",
    "    return df, to_cluster, clst_labels"
   ]
  },
  {
   "cell_type": "code",
   "execution_count": 9,
   "metadata": {},
   "outputs": [],
   "source": [
    "def get_linked_tracks(df, to_cluster, clst_labels, pcd):\n",
    "    \n",
    "    mcs = 100\n",
    "    eps = 0.5\n",
    "     \n",
    "    to_cluster_new, clst_labels_new, _ = process(pcd, min_cluster_size=mcs, e=eps)\n",
    "    to_cluster_new = to_cluster_new[clst_labels_new!=-1]\n",
    "    clst_labels_new = clst_labels_new[clst_labels_new!=-1]\n",
    "    \n",
    "    tracked_clst_labels = clst_labels_new.copy()\n",
    "    \n",
    "    df_new = pd.DataFrame(np.hstack((to_cluster_new[:,:2], clst_labels_new.reshape(-1,1))), columns=['x','y','cluster']).groupby('cluster')\\\n",
    "               .apply(lambda x: np.array(MinimumBoundingBox(x.values[:,:-1]).rectangle_center))\n",
    "    \n",
    "    cost = distance.cdist(np.vstack(df), np.vstack(df_new))\n",
    "    row_ind, col_ind = linear_sum_assignment(cost)\n",
    "    \n",
    "    for i in range(col_ind.shape[0]):\n",
    "        old_mask = clst_labels_new==int(df.index[row_ind][i])\n",
    "        tracked_clst_labels[clst_labels_new==int(df_new.index[col_ind][i])] = int(df.index[row_ind][i])\n",
    "        tracked_clst_labels[old_mask] = int(df_new.index[col_ind][i])\n",
    "    \n",
    "    df_t = pd.DataFrame(np.hstack((to_cluster_new[:,:2], tracked_clst_labels.reshape(-1,1))), columns=['x','y','cluster']).groupby('cluster')\\\n",
    "                    .apply(lambda x: np.array(MinimumBoundingBox(x.values[:,:-1]).rectangle_center))\n",
    "    \n",
    "    return df_t, to_cluster_new, tracked_clst_labels, "
   ]
  },
  {
   "cell_type": "code",
   "execution_count": 10,
   "metadata": {},
   "outputs": [],
   "source": [
    "def visualize_tracks(df, to_cluster, clst_labels, frame, props=dict(boxstyle='round', facecolor='wheat', alpha=1), angle=-np.pi/2):\n",
    "    rot = np.array([[np.cos(angle), -np.sin(angle), 0],\n",
    "                    [np.sin(angle),  np.cos(angle), 0],\n",
    "                    [0            ,  0            , 1]])\n",
    "    to_cluster = to_cluster.dot(rot)\n",
    "    df = df.apply(lambda x: x.dot(rot[:2,:2]))\n",
    "    \n",
    "    fig = plt.figure(figsize=(10, 10), dpi=350)\n",
    "    \n",
    "    plt.scatter(x=to_cluster[:,0], y=to_cluster[:,1], c=clst_labels, s=0.1, cmap='jet')\n",
    "    for k in range(0,df.shape[0]): \n",
    "        plt.text(*df.iloc[k], str(int(df.index.values[k])), fontsize=5, bbox=props)\n",
    "        \n",
    "    plt.xlim(-20,20)\n",
    "    plt.ylim(-20,20)\n",
    "    plt.savefig('output_tracks/%010d.png'%frame)\n",
    "    plt.close(fig)"
   ]
  },
  {
   "cell_type": "code",
   "execution_count": 12,
   "metadata": {},
   "outputs": [],
   "source": [
    "starting_frame = 0\n",
    "ending_frame = 77\n",
    "pcd1 = pcl.PointCloud(load_from_bin('data/'+'%010d.bin'%starting_frame)) #pcl.load('data/'+'%010d.pcd'%starting_frame)\n",
    "tracks = get_tracks(pcd1)\n",
    "visualize_tracks(*tracks, starting_frame)"
   ]
  },
  {
   "cell_type": "code",
   "execution_count": 13,
   "metadata": {},
   "outputs": [],
   "source": [
    "for frame in range(starting_frame+1,ending_frame-1):\n",
    "    pcd2 = pcl.PointCloud(load_from_bin('data/'+'%010d.bin'%frame))#.load('data/'+'%010d.pcd'%frame)\n",
    "    tracks = get_linked_tracks(*tracks, pcd2)\n",
    "    visualize_tracks(*tracks, frame)\n",
    "    pcd1 = pcd2"
   ]
  },
  {
   "cell_type": "code",
   "execution_count": 14,
   "metadata": {},
   "outputs": [],
   "source": [
    "import numpy as np\n",
    "import glob\n",
    "import os\n",
    "import sys\n",
    "sys.path.remove(sys.path[2])\n",
    "import cv2"
   ]
  },
  {
   "cell_type": "code",
   "execution_count": 15,
   "metadata": {},
   "outputs": [],
   "source": [
    "out = cv2.VideoWriter('tracks.avi',cv2.VideoWriter_fourcc(*'DIVX'), 15, (3500, 3500))\n",
    "#img_array = []\n",
    "for filename in sorted(glob.glob('output_tracks/*.png')):\n",
    "    img = cv2.imread(filename)\n",
    "    out.write(img)\n",
    "    #img_array.append(img)\n",
    "    #height, width, layers = img.shape\n",
    "    #size = (width,height)\n",
    "out.release()"
   ]
  }
 ],
 "metadata": {
  "kernelspec": {
   "display_name": "Python 3",
   "language": "python",
   "name": "python3"
  },
  "language_info": {
   "codemirror_mode": {
    "name": "ipython",
    "version": 3
   },
   "file_extension": ".py",
   "mimetype": "text/x-python",
   "name": "python",
   "nbconvert_exporter": "python",
   "pygments_lexer": "ipython3",
   "version": "3.7.3"
  }
 },
 "nbformat": 4,
 "nbformat_minor": 4
}
